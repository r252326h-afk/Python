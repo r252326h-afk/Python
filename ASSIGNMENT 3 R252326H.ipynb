{
 "cells": [
  {
   "cell_type": "code",
   "execution_count": 5,
   "id": "6d62543a-e945-48fc-b058-19a8e6fe1298",
   "metadata": {},
   "outputs": [
    {
     "name": "stdin",
     "output_type": "stream",
     "text": [
      "Enter an integer:  6\n"
     ]
    },
    {
     "name": "stdout",
     "output_type": "stream",
     "text": [
      "Positive\n"
     ]
    }
   ],
   "source": [
    "SIMBARASHE CHENGA\n",
    "R252326H ASSIGNMENT 3\n",
    "1. #classifying a number function with while loop\n",
    "def classify_number(n: int):\n",
    "    \"\"\"Classify a number as Positive, Negative, or Zero.\"\"\"\n",
    "    if n > 0:\n",
    "        return \"Positive\"\n",
    "    elif n < 0:\n",
    "        return \"Negative\"\n",
    "    else:\n",
    "        return \"Zero\"\n",
    "\n",
    "2. # Prompt until a valid integer is entered\n",
    "while True:\n",
    "    try:\n",
    "        num = int(input(\"Enter an integer: \"))\n",
    "        print(classify_number(num))\n",
    "        break\n",
    "    except ValueError:\n",
    "        print(\"Invalid input! Please enter a valid integer.\")\n"
   ]
  },
  {
   "cell_type": "code",
   "execution_count": 7,
   "id": "9f3f1d10-036e-4f5f-935d-bac9acbc6307",
   "metadata": {},
   "outputs": [
    {
     "name": "stdout",
     "output_type": "stream",
     "text": [
      "20.0\n"
     ]
    }
   ],
   "source": [
    "3.#calculating averange with args and docstrings\n",
    "def calculate_average(*args):\n",
    "    \"\"\"\n",
    "    Calculate the average of a variable number of arguments.\n",
    "    \n",
    "    Args:\n",
    "        *args: A variable number of numeric values.\n",
    "    \n",
    "    Returns:\n",
    "        float: The average of the input numbers.\n",
    "    \"\"\"\n",
    "    if not args:\n",
    "        return 0\n",
    "    return sum(args) / len(args)\n",
    "\n",
    "print(calculate_average(10, 20, 30))  # Example usage\n"
   ]
  },
  {
   "cell_type": "code",
   "execution_count": 9,
   "id": "d7cc3234-a65a-4b4a-9495-758283fb520d",
   "metadata": {},
   "outputs": [
    {
     "name": "stdin",
     "output_type": "stream",
     "text": [
      "Enter the number:  2\n"
     ]
    },
    {
     "name": "stdout",
     "output_type": "stream",
     "text": [
      "You entered: 2\n"
     ]
    }
   ],
   "source": [
    "4.#handling user input with try block\n",
    "while True:\n",
    "    try:\n",
    "        number = int(input(\"Enter the number: \"))\n",
    "        print(\"You entered:\", number)\n",
    "        break #this stops an iteration and outputs the following\n",
    "    except ValueError:\n",
    "        print(\"Error! Please enter a valid number.\")\n"
   ]
  },
  {
   "cell_type": "code",
   "execution_count": 11,
   "id": "cace8e93-57f2-4d0c-a539-498c349dce4b",
   "metadata": {},
   "outputs": [
    {
     "name": "stdout",
     "output_type": "stream",
     "text": [
      "Alice\n",
      "Bob\n",
      "Charlie\n",
      "Diana\n"
     ]
    }
   ],
   "source": [
    "5.#writing and reading names from files\n",
    "names = [\"Alice\", \"Bob\", \"Charlie\", \"Diana\"]\n",
    "\n",
    "# what is to be written to file\n",
    "with open(\"names.txt\", \"w\") as f:\n",
    "    for name in names:\n",
    "        f.write(name + \"\\n\")#\\n is used to go to the next line after every name\n",
    "\n",
    "# this is the reading from the file\n",
    "with open(\"names.txt\", \"r\") as f:\n",
    "    for line in f:\n",
    "        print(line.strip())\n"
   ]
  },
  {
   "cell_type": "code",
   "execution_count": 13,
   "id": "b3cb5c60-dbfe-4181-ac86-0dfc25cb5c6c",
   "metadata": {},
   "outputs": [
    {
     "name": "stdout",
     "output_type": "stream",
     "text": [
      "Celsius: [0, 20, 37, 100]\n",
      "Fahrenheit: [32.0, 68.0, 98.6, 212.0]\n"
     ]
    }
   ],
   "source": [
    "6.#conversion of celcius to farrehnheit using lambda\n",
    "celsius = [0, 20, 37, 100]\n",
    "fahrenheit = list(map(lambda c: c * 9/5 + 32, celsius))#the calculation\n",
    "\n",
    "print(\"Celsius:\", celsius)\n",
    "print(\"Fahrenheit:\", fahrenheit)\n"
   ]
  },
  {
   "cell_type": "code",
   "execution_count": 15,
   "id": "fe484b42-b0a7-4b58-a09c-4e3c1da9b00e",
   "metadata": {},
   "outputs": [
    {
     "name": "stdout",
     "output_type": "stream",
     "text": [
      "5.0\n",
      "Error: Division by zero is not allowed.\n",
      "None\n",
      "Error: Invalid input types. Please enter numbers.\n",
      "None\n"
     ]
    }
   ],
   "source": [
    "7.#error handling whilst dividing\n",
    "def divide_numbers(numerator, denominator):\n",
    "    \"\"\"Divide two numbers with error handling.\"\"\"\n",
    "    try:\n",
    "        result = numerator / denominator\n",
    "        return result\n",
    "    except ZeroDivisionError:\n",
    "        print(\"Error: Division by zero is not allowed.\")\n",
    "    except TypeError:\n",
    "        print(\"Error: Invalid input types. Please enter numbers.\")\n",
    "\n",
    "print(divide_numbers(10, 2))\n",
    "print(divide_numbers(10, 0))\n",
    "print(divide_numbers(10, \"a\"))\n"
   ]
  },
  {
   "cell_type": "code",
   "execution_count": 21,
   "id": "17f28054-c37c-4000-b9cd-eb0c1234ab11",
   "metadata": {},
   "outputs": [
    {
     "name": "stdout",
     "output_type": "stream",
     "text": [
      "Caught an exception: Negative number not allowed!\n"
     ]
    }
   ],
   "source": [
    "8.#handling the negative number error\n",
    "class NegativeNumberError(Exception):\n",
    "    \"\"\"Custom exception for negative numbers.\"\"\"\n",
    "    pass\n",
    "\n",
    "def check_positive(num):\n",
    "    \"\"\"Raise NegativeNumberError if num is negative.\"\"\"\n",
    "    if num < 0:\n",
    "        raise NegativeNumberError(\"Negative number not allowed!\")\n",
    "    return num\n",
    "\n",
    "#example\n",
    "try:\n",
    "    print(check_positive(-5))\n",
    "except NegativeNumberError as e:\n",
    "    print(\"Caught an exception:\", e)\n"
   ]
  },
  {
   "cell_type": "code",
   "execution_count": 23,
   "id": "ec4b9747-2f73-4134-b651-c1b2685354db",
   "metadata": {},
   "outputs": [
    {
     "name": "stdout",
     "output_type": "stream",
     "text": [
      "Random numbers: [65, 83, 96, 7, 82, 29, 61, 60, 57, 28]\n",
      "Average: 56.8\n"
     ]
    }
   ],
   "source": [
    "9.#generating random numbers. using .randint built in function\n",
    "import random\n",
    "\n",
    "numbers = [random.randint(1, 100) for _ in range(10)]\n",
    "average = sum(numbers) / len(numbers)\n",
    "\n",
    "print(\"Random numbers:\", numbers)\n",
    "print(\"Average:\", average)\n"
   ]
  },
  {
   "cell_type": "code",
   "execution_count": 25,
   "id": "1329bd8d-db05-4225-a83e-a3be5fe5f2ab",
   "metadata": {},
   "outputs": [
    {
     "name": "stdout",
     "output_type": "stream",
     "text": [
      "Emails found: ['info@example.com', 'support@mydomain.org', 'admin123@test.co.uk']\n",
      "Valid date? True\n",
      "Replaced: Java is great. I love Java.\n",
      "Split result: ['Hello', 'world', 'Python_3', 'is', 'awesome', '']\n"
     ]
    }
   ],
   "source": [
    "9.import re\n",
    "\n",
    "text = \"\"\"\n",
    "Contact us at info@try.com, help@myweb.org, \n",
    "or sales@qua.co.zw for more information.\n",
    "\"\"\"\n",
    "\n",
    "# Extract emails\n",
    "emails = re.findall(r\"[a-zA-Z0-9._%+-]+@[a-zA-Z0-9.-]+\\.[a-zA-Z]{2,}\", text)\n",
    "print(\"Emails found:\", emails)\n",
    "\n",
    "# Validate date format YYYY-MM-DD\n",
    "date_pattern = r\"^\\d{4}-\\d{2}-\\d{2}$\"\n",
    "date = \"2025-09-13\"\n",
    "print(\"Valid date?\" , bool(re.match(date_pattern, date)))\n",
    "\n",
    "# Replace word\n",
    "sentence = \"Python is great. I love Python.\"\n",
    "new_sentence = re.sub(r\"Python\", \"Java\", sentence)\n",
    "print(\"Replaced:\", new_sentence)\n",
    "\n",
    "# Split by non-alphanumeric\n",
    "split_result = re.split(r\"\\W+\", \"Hello, world! Python_3 is awesome.\")\n",
    "print(\"Split result:\", split_result)\n"
   ]
  },
  {
   "cell_type": "code",
   "execution_count": null,
   "id": "dab0031c-531e-4c9f-8947-2fd19f9a624d",
   "metadata": {},
   "outputs": [],
   "source": [
    "10.#a simple client server\n",
    "import socket\n",
    "\n",
    "def server_program():\n",
    "    host = \"127.0.0.1\"\n",
    "    port = 5000\n",
    "    \n",
    "    server_socket = socket.socket()\n",
    "    server_socket.bind((host, port))\n",
    "    server_socket.listen(1)\n",
    "    \n",
    "    print(\"Server listening...\")\n",
    "    conn, address = server_socket.accept()\n",
    "    print(\"Connection from:\", address)\n",
    "    \n",
    "    conn.send(b\"Hello from server\")\n",
    "    conn.close()\n",
    "\n",
    "if __name__ == \"__main__\":\n",
    "    server_program()\n",
    "#if it outputs server is listening it means the server is working"
   ]
  },
  {
   "cell_type": "code",
   "execution_count": null,
   "id": "1449f9c2-c9dc-4263-99a2-0f9e5b1f05d2",
   "metadata": {},
   "outputs": [],
   "source": [
    "11.#client.py\n",
    "import socket\n",
    "\n",
    "def client_program():\n",
    "    host = \"127.0.0.1\"\n",
    "    port = 5000\n",
    "    \n",
    "    client_socket = socket.socket()\n",
    "    try:\n",
    "        client_socket.connect((host, port))\n",
    "        message = client_socket.recv(1024).decode()\n",
    "        print(\"Received from server:\", message)\n",
    "    except Exception as e:\n",
    "        print(\"Error:\", e)\n",
    "    finally:\n",
    "        client_socket.close()\n",
    "\n",
    "if __name__ == \"__main__\":\n",
    "    client_program()\n"
   ]
  },
  {
   "cell_type": "code",
   "execution_count": null,
   "id": "bcbe4d3a-8d64-407c-962f-e504ad03ab84",
   "metadata": {},
   "outputs": [],
   "source": [
    "#API and GET request with requests\n",
    "#API (Application Programming Interface)\n",
    "#A set of rules and protocols that allow one software to communicate with another.\n",
    "#APIs let programs request and exchange data or services.\n",
    "\n",
    "#Making a GET request with\n",
    "\n",
    "import requests\n",
    "\n",
    "response = requests.get(\"https://jsonplaceholder.typicode.com/posts/1\")\n",
    "if response.status_code == 200:\n",
    "    print(\"Response JSON:\", response.json())\n",
    "else:\n",
    "    print(\"Failed to fetch data.\")\n"
   ]
  },
  {
   "cell_type": "code",
   "execution_count": null,
   "id": "bbbe2ab5-5c38-4c06-bfe4-5f98b9d79e63",
   "metadata": {},
   "outputs": [],
   "source": [
    "#Connect to SQLite database in Python\n",
    "\n",
    "#Steps\n",
    "#Import sqlite3 - Provides SQLite support\n",
    "#Connect to DB - sqlite3.connect(\"mydb.db\")\n",
    "#Create cursor - Used to execute SQL queries\n",
    "#Execute queries - Create tables, insert, select\n",
    "#Commit changes - Save changes to the DB\n",
    "#Close connection - Free resources\n",
    "\n",
    "\n",
    "import sqlite3\n",
    "\n",
    "#connecting to database (creates file thats if it not exists)\n",
    "conn = sqlite3.connect(\"chenga.db\")\n",
    "cursor = conn.cursor()\n",
    "\n",
    "#creating a table\n",
    "cursor.execute(\"CREATE TABLE IF NOT EXISTS users (id INTEGER PRIMARY KEY, name TEXT)\")\n",
    "\n",
    "#inserting data\n",
    "cursor.execute(\"INSERT INTO users (name) VALUES (?)\", (\"Alice\",))\n",
    "conn.commit()\n",
    "\n",
    "# reading the data \n",
    "cursor.execute(\"SELECT * FROM users\")\n",
    "print(cursor.fetchall())\n",
    "\n",
    "#closing the connection\n",
    "conn.close()\n"
   ]
  }
 ],
 "metadata": {
  "kernelspec": {
   "display_name": "Python [conda env:base] *",
   "language": "python",
   "name": "conda-base-py"
  },
  "language_info": {
   "codemirror_mode": {
    "name": "ipython",
    "version": 3
   },
   "file_extension": ".py",
   "mimetype": "text/x-python",
   "name": "python",
   "nbconvert_exporter": "python",
   "pygments_lexer": "ipython3",
   "version": "3.12.7"
  }
 },
 "nbformat": 4,
 "nbformat_minor": 5
}
